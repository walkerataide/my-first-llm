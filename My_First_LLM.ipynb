{
  "nbformat": 4,
  "nbformat_minor": 0,
  "metadata": {
    "colab": {
      "provenance": [],
      "authorship_tag": "ABX9TyPflZF9RN/jSqFqvte1b5l/",
      "include_colab_link": true
    },
    "kernelspec": {
      "name": "python3",
      "display_name": "Python 3"
    },
    "language_info": {
      "name": "python"
    }
  },
  "cells": [
    {
      "cell_type": "markdown",
      "metadata": {
        "id": "view-in-github",
        "colab_type": "text"
      },
      "source": [
        "<a href=\"https://colab.research.google.com/github/walkerataide/my-first-llm/blob/main/My_First_LLM.ipynb\" target=\"_parent\"><img src=\"https://colab.research.google.com/assets/colab-badge.svg\" alt=\"Open In Colab\"/></a>"
      ]
    },
    {
      "cell_type": "code",
      "execution_count": null,
      "metadata": {
        "id": "EYIeRgYkOM1r"
      },
      "outputs": [],
      "source": []
    },
    {
      "cell_type": "code",
      "execution_count": null,
      "metadata": {
        "id": "J6Pd9SFJ1yVi"
      },
      "outputs": [],
      "source": [
        "!pip install -q -U google-generativeai"
      ]
    },
    {
      "cell_type": "code",
      "execution_count": null,
      "metadata": {
        "id": "HTiaTu6O1LRC"
      },
      "outputs": [],
      "source": [
        "# Import the Python SDK\n",
        "import google.generativeai as genai\n",
        "# Used to securely store your API key\n",
        "from google.colab import userdata\n",
        "\n",
        "GOOGLE_API_KEY=userdata.get('GOOGLE_API_KEY')\n",
        "#GOOGLE_API_KEY=\"COLE SUA API KEY\"\n",
        "genai.configure(api_key=GOOGLE_API_KEY)"
      ]
    },
    {
      "cell_type": "code",
      "execution_count": null,
      "metadata": {
        "id": "s-JqXcDe2hZ_"
      },
      "outputs": [],
      "source": [
        "model = genai.GenerativeModel('gemini-pro')"
      ]
    },
    {
      "cell_type": "code",
      "execution_count": null,
      "metadata": {
        "id": "j51mcrLD4Y2W"
      },
      "outputs": [],
      "source": [
        "response = model.generate_content(\"Vamos aprender conteúdo dobre IA. Me dê sugestões\")\n",
        "print(response.text)"
      ]
    },
    {
      "cell_type": "markdown",
      "source": [
        "Listar os  modelos disponíveis."
      ],
      "metadata": {
        "id": "j4MK5xYVTmBz"
      }
    },
    {
      "cell_type": "code",
      "source": [
        "for m in genai.list_models():\n",
        "  if 'generateContent' in m.supported_generation_methods:\n",
        "    print(m.name)"
      ],
      "metadata": {
        "colab": {
          "base_uri": "https://localhost:8080/",
          "height": 139
        },
        "id": "kV4mtR_FTppm",
        "outputId": "25d4c982-ba82-4037-d2a6-40d79c0bf9bd"
      },
      "execution_count": null,
      "outputs": [
        {
          "output_type": "stream",
          "name": "stdout",
          "text": [
            "models/gemini-1.0-pro\n",
            "models/gemini-1.0-pro-001\n",
            "models/gemini-1.0-pro-latest\n",
            "models/gemini-1.0-pro-vision-latest\n",
            "models/gemini-1.5-pro-latest\n",
            "models/gemini-pro\n",
            "models/gemini-pro-vision\n"
          ]
        }
      ]
    },
    {
      "cell_type": "code",
      "source": [
        "generation_config = {\n",
        "    \"candidate_count\": 1,\n",
        "    \"temperature\": 0.5, #aleatoriedade das palavras do modelo: min 0 .. max 1\n",
        "    \"top_k\": 35,\n",
        "    \"top_p\": 0.95,\n",
        "    #\"max_output_tokens\": 1000,\n",
        "}"
      ],
      "metadata": {
        "id": "ApGESCCnX1zE"
      },
      "execution_count": null,
      "outputs": []
    },
    {
      "cell_type": "code",
      "source": [
        "safety_settings = {\n",
        "    \"HARASSMENT\": \"BLOCK_NONE\",\n",
        "    \"HATE\":\"BLOCK_NONE\",\n",
        "    \"SEXUAL\":\"BLOCK_NONE\",\n",
        "    \"DANGEROUS\":\"BLOCK_NONE\",\n",
        "}"
      ],
      "metadata": {
        "id": "_XDMKnnNYoXj"
      },
      "execution_count": null,
      "outputs": []
    },
    {
      "cell_type": "markdown",
      "source": [
        "Inicializanod o modelo"
      ],
      "metadata": {
        "id": "32hV_5V0KWiT"
      }
    },
    {
      "cell_type": "code",
      "source": [
        "model = genai.GenerativeModel(model_name=\"gemini-1.0-pro\",\n",
        "                              generation_config=generation_config,\n",
        "                              safety_settings=safety_settings)"
      ],
      "metadata": {
        "id": "NvC2VGGQKaEN"
      },
      "execution_count": null,
      "outputs": []
    },
    {
      "cell_type": "code",
      "source": [
        "response = model.generate_content(\"Como organizar um plano de estudos no obsidian\")\n",
        "print(response.text)"
      ],
      "metadata": {
        "colab": {
          "base_uri": "https://localhost:8080/",
          "height": 937
        },
        "id": "N9730QbRL9-o",
        "outputId": "85b10299-62a5-4d4d-e57c-18fe49f44ff8"
      },
      "execution_count": null,
      "outputs": [
        {
          "output_type": "stream",
          "name": "stdout",
          "text": [
            "**Usando o Obsidian para Organizar um Plano de Estudos**\n",
            "\n",
            "**1. Crie uma nota principal para o plano de estudos**\n",
            "\n",
            "* Nomeie a nota como \"Plano de Estudos\" ou algo semelhante.\n",
            "* Esta nota servirá como índice para todo o seu plano de estudos.\n",
            "\n",
            "**2. Crie subnotas para assuntos ou tópicos**\n",
            "\n",
            "* Crie uma subnota para cada assunto ou tópico que você precisa estudar.\n",
            "* Por exemplo, você pode ter subnotas para \"Matemática\", \"Ciência\" e \"História\".\n",
            "\n",
            "**3. Adicione subpáginas para tópicos específicos**\n",
            "\n",
            "* Dentro de cada subnota, crie subpáginas para tópicos específicos.\n",
            "* Por exemplo, na subnota \"Matemática\", você pode ter subpáginas para \"Álgebra\", \"Geometria\" e \"Cálculo\".\n",
            "\n",
            "**4. Vincule notas e subpáginas**\n",
            "\n",
            "* Use links internos para conectar notas e subpáginas relacionadas.\n",
            "* Isso permite que você navegue facilmente pelo seu plano de estudos.\n",
            "* Por exemplo, você pode vincular a subpágina \"Álgebra\" à subnota \"Matemática\".\n",
            "\n",
            "**5. Use tags para categorizar notas**\n",
            "\n",
            "* Crie tags para categorizar notas e subpáginas.\n",
            "* Isso ajuda você a filtrar e encontrar informações específicas.\n",
            "* Por exemplo, você pode criar tags como \"#matemática\", \"#ciência\" e \"#história\".\n",
            "\n",
            "**6. Adicione notas e recursos**\n",
            "\n",
            "* Adicione notas e recursos às suas subpáginas.\n",
            "* Isso pode incluir resumos, links para vídeos ou artigos, e tarefas.\n",
            "* Use o recurso de destaque do Obsidian para destacar informações importantes.\n",
            "\n",
            "**7. Use o gráfico de grafos**\n",
            "\n",
            "* O gráfico de grafos do Obsidian mostra as conexões entre suas notas.\n",
            "* Isso ajuda você a visualizar a estrutura do seu plano de estudos e identificar tópicos relacionados.\n",
            "* Você pode usar o gráfico de grafos para navegar rapidamente pelas suas notas.\n",
            "\n",
            "**8. Revise e atualize regularmente**\n",
            "\n",
            "* Revise e atualize seu plano de estudos regularmente.\n",
            "* Adicione novas notas, remova notas desatualizadas e ajuste a estrutura conforme necessário.\n",
            "* Isso garante que seu plano de estudos permaneça organizado e atualizado.\n",
            "\n",
            "**Dicas adicionais:**\n",
            "\n",
            "* Use o recurso de pesquisa do Obsidian para encontrar rapidamente informações específicas.\n",
            "* Crie modelos de notas para economizar tempo na criação de novas notas.\n",
            "* Compartilhe seu plano de estudos com outras pessoas para colaboração.\n",
            "* Explore os plugins do Obsidian para recursos adicionais de organização.\n"
          ]
        }
      ]
    },
    {
      "cell_type": "code",
      "source": [
        "chat = model.start_chat(history=[])"
      ],
      "metadata": {
        "id": "sSg_U85ARgZ0"
      },
      "execution_count": null,
      "outputs": []
    },
    {
      "cell_type": "code",
      "source": [
        "prompt = input(\"Esperando prompt:\")\n",
        "\n",
        "while prompt != \"fim\":\n",
        "  response = chat.send_message(prompt)\n",
        "  print(f\"Resposta: {response.text} \\n\")\n",
        "  prompt = input(\"Esperando prompt:\")"
      ],
      "metadata": {
        "colab": {
          "base_uri": "https://localhost:8080/"
        },
        "id": "Y5NV3pquSAD-",
        "outputId": "e555c57c-b0b7-4bb3-f03d-e293f3e32f2c"
      },
      "execution_count": null,
      "outputs": [
        {
          "metadata": {
            "tags": null
          },
          "name": "stdout",
          "output_type": "stream",
          "text": [
            "Resposta: **Integração do GitHub com o Discord**\n",
            "\n",
            "**Pré-requisitos:**\n",
            "\n",
            "* Conta do GitHub\n",
            "* Conta do Discord\n",
            "* Bot do Discord\n",
            "\n",
            "**Passos:**\n",
            "\n",
            "**1. Crie um Bot do Discord**\n",
            "\n",
            "* Acesse o [Portal do Desenvolvedor do Discord](https://discord.com/developers/applications).\n",
            "* Clique em \"Nova Aplicação\".\n",
            "* Dê um nome à sua aplicação e clique em \"Criar\".\n",
            "* Na guia \"Bot\", clique em \"Adicionar Bot\".\n",
            "* Confirme a criação do bot.\n",
            "\n",
            "**2. Autorize o Bot no GitHub**\n",
            "\n",
            "* Acesse o [GitHub Marketplace](https://github.com/marketplace).\n",
            "* Pesquise por \"Discord\".\n",
            "* Selecione o bot \"Discord\" e clique em \"Instalar\".\n",
            "* Conceda as permissões necessárias ao bot.\n",
            "\n",
            "**3. Configure a Integração**\n",
            "\n",
            "* No GitHub, acesse o repositório que deseja integrar.\n",
            "* Clique na guia \"Configurações\".\n",
            "* Na seção \"Integrações\", clique em \"Novo webhook\".\n",
            "* Selecione \"Discord\" no menu suspenso \"Serviço\".\n",
            "* Cole o URL do webhook do bot do Discord no campo \"URL de Payload\".\n",
            "* Selecione os eventos que deseja que acionem o webhook.\n",
            "* Clique em \"Adicionar webhook\".\n",
            "\n",
            "**4. Configure o Bot do Discord**\n",
            "\n",
            "* No Discord, abra o canal onde deseja receber as notificações.\n",
            "* Digite o seguinte comando:\n",
            "\n",
            "```\n",
            "/webhook create\n",
            "```\n",
            "\n",
            "* Copie o URL do webhook fornecido pelo bot.\n",
            "\n",
            "**5. Vincule o Webhook do GitHub ao Bot do Discord**\n",
            "\n",
            "* No GitHub, acesse a página de configurações do webhook.\n",
            "* Cole o URL do webhook do bot do Discord no campo \"URL de Payload\".\n",
            "* Clique em \"Atualizar webhook\".\n",
            "\n",
            "**6. Teste a Integração**\n",
            "\n",
            "* No GitHub, faça uma alteração no repositório integrado.\n",
            "* Você deve receber uma notificação no canal do Discord.\n",
            "\n",
            "**Recursos Adicionais:**\n",
            "\n",
            "* [Documentação do GitHub Webhooks](https://docs.github.com/en/developers/webhooks-and-events/webhooks)\n",
            "* [Documentação do Bot do Discord](https://discord.com/developers/docs/intro) \n",
            "\n"
          ]
        }
      ]
    },
    {
      "cell_type": "code",
      "source": [
        "#Melhorando a visualização\n",
        "#Código disponível em https://ai.google.dev/tutorials/python_quickstart#import_packages\n",
        "import textwrap\n",
        "from IPython.display import display\n",
        "from IPython.display import Markdown\n",
        "\n",
        "def to_markdown(text):\n",
        "  text = text.replace('•', '  *')\n",
        "  return Markdown(textwrap.indent(text, '> ', predicate=lambda _: True))\n",
        "\n",
        "#Imprimindo o histórico\n",
        "for message in chat.history:\n",
        "  display(to_markdown(f'**{message.role}**: {message.parts[0].text}'))\n",
        "  print('-------------------------------------------')"
      ],
      "metadata": {
        "colab": {
          "base_uri": "https://localhost:8080/",
          "height": 393
        },
        "id": "_R_bxyeHU_wY",
        "outputId": "a35a8351-0db1-4ffb-ae91-8a540bd99e5f"
      },
      "execution_count": null,
      "outputs": [
        {
          "output_type": "display_data",
          "data": {
            "text/plain": [
              "<IPython.core.display.Markdown object>"
            ],
            "text/markdown": "> **user**: Qual a capital do Brasil?"
          },
          "metadata": {}
        },
        {
          "output_type": "stream",
          "name": "stdout",
          "text": [
            "-------------------------------------------\n"
          ]
        },
        {
          "output_type": "display_data",
          "data": {
            "text/plain": [
              "<IPython.core.display.Markdown object>"
            ],
            "text/markdown": "> **model**: Brasília"
          },
          "metadata": {}
        },
        {
          "output_type": "stream",
          "name": "stdout",
          "text": [
            "-------------------------------------------\n"
          ]
        },
        {
          "output_type": "display_data",
          "data": {
            "text/plain": [
              "<IPython.core.display.Markdown object>"
            ],
            "text/markdown": "> **user**: qual a comida típica deste país?"
          },
          "metadata": {}
        },
        {
          "output_type": "stream",
          "name": "stdout",
          "text": [
            "-------------------------------------------\n"
          ]
        },
        {
          "output_type": "display_data",
          "data": {
            "text/plain": [
              "<IPython.core.display.Markdown object>"
            ],
            "text/markdown": "> **model**: Feijoada"
          },
          "metadata": {}
        },
        {
          "output_type": "stream",
          "name": "stdout",
          "text": [
            "-------------------------------------------\n"
          ]
        },
        {
          "output_type": "display_data",
          "data": {
            "text/plain": [
              "<IPython.core.display.Markdown object>"
            ],
            "text/markdown": "> **user**: Minha esposa nasceu nesta cidade, qual é a nacionalidade dela?"
          },
          "metadata": {}
        },
        {
          "output_type": "stream",
          "name": "stdout",
          "text": [
            "-------------------------------------------\n"
          ]
        },
        {
          "output_type": "display_data",
          "data": {
            "text/plain": [
              "<IPython.core.display.Markdown object>"
            ],
            "text/markdown": "> **model**: Brasileira"
          },
          "metadata": {}
        },
        {
          "output_type": "stream",
          "name": "stdout",
          "text": [
            "-------------------------------------------\n"
          ]
        }
      ]
    }
  ]
}